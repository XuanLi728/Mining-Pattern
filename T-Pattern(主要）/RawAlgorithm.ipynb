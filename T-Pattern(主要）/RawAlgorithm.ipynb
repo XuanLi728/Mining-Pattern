{
 "cells": [
  {
   "cell_type": "markdown",
   "source": [
    "#### 数据集\n",
    "Geolife GPS trajectory dataset\n",
    "#### idea\n",
    "聚类得出每类的代表性轨迹，而后计算每条轨迹与其的距离差与时间差（二者看看用什么函数），将距离矩阵投入 Prophet中预测\n",
    "##### TODO_List\n",
    "- [x] 聚类（时间差与距离）\n",
    "- [x] 轨迹平滑处理\n",
    "   - [x] 代码测试通过\n",
    "   - [x] 寻找最佳参数--------除了I外的个元素越大越平滑\n",
    "- [x] 代表性的轨迹\n",
    "   - [x] 聚类中心--- clusters.centroids[clustersIndex][:,0],clusters.centroids[clustersIndex][:,1]\n",
    "   - [ ] 轨迹点数目的归一化----Ramer-Douglas-Peucker Algorithm\n",
    "    - [ ] 归一化参数选择，确保都是一样数目的点\n",
    "- [ ] Prophet 使用\n",
    "   - [ ] 距离矩阵的计算\n",
    "\n",
    "##### 算法框架\n",
    "1.  将原始轨迹按 ID 读入内存中，卡尔曼滤波后再进行计算\n",
    "2.  进行QuickBundles聚类，得出聚类中心线\n",
    "3.  每类中的所有轨迹与其中心线的距离矩阵的计算\n",
    "4.  将距离矩阵 + 具体时间点投入Prophet中，注意每个 ID 可能会对应多个预测模型，但每个类仅对应一个预测模型\n",
    "5.  调参"
   ],
   "metadata": {
    "collapsed": false
   }
  },
  {
   "cell_type": "code",
   "execution_count": 1,
   "outputs": [
    {
     "name": "stderr",
     "output_type": "stream",
     "text": [
      "100%|██████████| 71/71 [00:02<00:00, 24.30it/s]\n"
     ]
    },
    {
     "name": "stdout",
     "output_type": "stream",
     "text": [
      "39.984198 116.319322 -11763.0\n"
     ]
    }
   ],
   "source": [
    "from dipy.tracking.streamlinespeed import Streamlines\n",
    "%matplotlib inline\n",
    "# 数据处理\n",
    "import numpy as np\n",
    "import matplotlib.pyplot as plt\n",
    "import pandas as pd\n",
    "import datetime as dt\n",
    "import os\n",
    "from gmplot import gmplot\n",
    "from tqdm import tqdm\n",
    "# Enable inline plotting\n",
    "\n",
    "names = ['lat','lng','zero','alt','days','date','time']\n",
    "streams = []\n",
    "TimeStamp = []\n",
    "index = 0\n",
    "\n",
    "userdata = 'data\\\\Geolife Trajectories 1.3\\\\Data\\\\' + '001' + '\\\\Trajectory\\\\'\n",
    "filelist = os.listdir(userdata)\n",
    "\n",
    "for f in tqdm(filelist):\n",
    "    df_list = [pd.read_csv(userdata + f,header=6,names=names,index_col=False, parse_dates=[['date', 'time']])]\n",
    "    df = pd.concat(df_list, ignore_index=True)\n",
    "    df.drop(['zero','alt','days'], axis=1, inplace=True)\n",
    "    df.set_index('date_time')\n",
    "    df_min = df\n",
    "    time_h = (df.date_time - dt.datetime(2008,10,23,9,9,9)).map(lambda x: x/np.timedelta64(1,'s'))\n",
    "    # df_min = df.iloc[::12, :, :]\n",
    "    # pd.to_datetime(df_min['date_time'], format='%Y-%m-%d %H:%M:%S')\n",
    "    # timedelta = abs(df_min.date_time - dt.datetime(2008,11,11,9,9,9,9))\n",
    "    lat_lng_data = np.c_[df_min['lat'].values, df_min['lng'].values, time_h]\n",
    "    streams.append(lat_lng_data)\n",
    "\n",
    "\n",
    "print(streams[0][0,0], streams[0][0,1], streams[0][0,2])\n",
    "gmap = gmplot.GoogleMapPlotter(streams[0][0,0], streams[0][0,1], 12)\n",
    "# Time_Streams = dict(zip(TimeStamp, streams))\n",
    "# print(Time_Streams['2008-10-23 05:53:05'])\n",
    "for i in range(len(streams)):\n",
    "    gmap.plot(streams[i][:,0], streams[i][:,1], 'cornflowerblue', edge_width=1)\n",
    "\n",
    "\n",
    "gmap.draw(\"user001_map.html\")\n"
   ],
   "metadata": {
    "collapsed": false,
    "pycharm": {
     "name": "#%%\n"
    }
   }
  },
  {
   "cell_type": "code",
   "execution_count": 2,
   "outputs": [
    {
     "name": "stdout",
     "output_type": "stream",
     "text": [
      "Nb. clusters: 18\n"
     ]
    }
   ],
   "source": [
    "# 分类\n",
    "import geopy.distance\n",
    "from dipy.segment.metric import Metric\n",
    "from dipy.segment.metric import ResampleFeature\n",
    "import numpy as np\n",
    "from dipy.segment.clustering import QuickBundles\n",
    "THRESHOLD = 1\n",
    "class GPSDistance(Metric):\n",
    "    def __init__(self):\n",
    "        super(GPSDistance, self).__init__(feature=ResampleFeature(nb_points=256))\n",
    "\n",
    "    def are_compatible(self, shape1, shape2):\n",
    "        return len(shape1) == len(shape2)\n",
    "\n",
    "    def dist(self, v1, v2):\n",
    "        x = [geopy.distance.distance([p[0][0], p[0][1]], [p[1][0], p[1][1]]).kilometers  for p in list(zip(v1, v2)) if p[0][2] - p[1][2] < 10]\n",
    "        currD = np.mean(x)\n",
    "        return currD\n",
    "\n",
    "\n",
    "metric = GPSDistance()\n",
    "qb = QuickBundles(threshold=THRESHOLD, metric=metric)\n",
    "\n",
    "clusters = qb.cluster(streams)\n",
    "print(\"Nb. clusters:\", len(clusters))"
   ],
   "metadata": {
    "collapsed": false,
    "pycharm": {
     "name": "#%%\n"
    }
   }
  },
  {
   "cell_type": "code",
   "execution_count": null,
   "outputs": [],
   "source": [
    "# 画图 1\n",
    "from gmplot import gmplot\n",
    "import random\n",
    "\n",
    "def randomcolor():\n",
    "    colorArr = ['1','2','3','4','5','6','7','8','9','A','B','C','D','E','F']\n",
    "    color = \"\"\n",
    "    for i in range(6):\n",
    "        color += colorArr[random.randint(0,14)]\n",
    "    return \"#\"+color\n",
    "\n",
    "gmap = gmplot.GoogleMapPlotter(streams[0][0,0], streams[0][0,1], 12)\n",
    "\n",
    "for clustersIndex in range(len(clusters)):\n",
    "    color = randomcolor()\n",
    "    for i in clusters[clustersIndex].indices:\n",
    "        gmap.plot(streams[i][:,0], streams[i][:,1], color, edge_width=1)\n",
    "\n",
    "gmap.draw(\"user001_map.html\")\n",
    "print('done')"
   ],
   "metadata": {
    "collapsed": false,
    "pycharm": {
     "name": "#%%\n"
    }
   }
  },
  {
   "cell_type": "code",
   "execution_count": null,
   "outputs": [],
   "source": [
    "# 画图 2\n",
    "from matplotlib import rcParams\n",
    "rcParams['figure.facecolor']=(1,1,1,1)\n",
    "for i in range(len(clusters)):\n",
    "     for j in clusters[i].indices:\n",
    "        plt.plot(streams[i][:,0], streams[i][:,1]) # Plot some data on the (implicit) axes.\n",
    "\n",
    "plt.xlabel('latitude')\n",
    "plt.ylabel('longitude')\n",
    "plt.title(\"Simple Plot\")\n",
    "plt.legend()"
   ],
   "metadata": {
    "collapsed": false,
    "pycharm": {
     "name": "#%%\n"
    }
   }
  },
  {
   "cell_type": "markdown",
   "source": [
    "## -------------------------以上为聚类代码-----------------------------"
   ],
   "metadata": {
    "collapsed": false,
    "pycharm": {
     "name": "#%% md\n"
    }
   }
  },
  {
   "cell_type": "code",
   "execution_count": null,
   "outputs": [],
   "source": [
    "from pykalman import KalmanFilter\n",
    "import numpy as np\n",
    "import matplotlib.pyplot as plt\n",
    "import time\n",
    "from gmplot import gmplot\n",
    "import random\n",
    "\n",
    "\n",
    "def randomcolor():\n",
    "    colorArr = ['1','2','3','4','5','6','7','8','9','A','B','C','D','E','F']\n",
    "    color = \"\"\n",
    "    for k in range(6):\n",
    "        color += colorArr[random.randint(0,14)]\n",
    "    return \"#\"+color\n",
    "\n",
    "def func_kalman_1(array):\n",
    "    measurements = array\n",
    "\n",
    "    initial_state_mean = [measurements[0, 0],\n",
    "                      0,\n",
    "                      measurements[0, 1],\n",
    "                      0]\n",
    "\n",
    "    transition_matrix = [[1, 1, 0, 0],\n",
    "                     [0, 1, 0, 0],\n",
    "                     [0, 0, 1, 1],\n",
    "                     [0, 0, 0, 1]]\n",
    "\n",
    "    observation_matrix = [[1, 0, 0, 0],\n",
    "                      [0, 0, 1, 0]]\n",
    "\n",
    "    kf1 = KalmanFilter(transition_matrices = transition_matrix,\n",
    "                  observation_matrices = observation_matrix,\n",
    "                  initial_state_mean = initial_state_mean)\n",
    "\n",
    "    kf1 = kf1.em(measurements, n_iter=5)\n",
    "    (smoothed_state_means, smoothed_state_covariances) = kf1.smooth(measurements)\n",
    "\n",
    "def func_kalman_2(array):\n",
    "    measurements = array\n",
    "\n",
    "    initial_state_mean = [measurements[0, 0],\n",
    "                      0,\n",
    "                      measurements[0, 1],\n",
    "                      0]\n",
    "\n",
    "    transition_matrix = [[1, 1, 0, 0],\n",
    "                         [0, 1, 0, 0],\n",
    "                         [0, 0, 1, 1],\n",
    "                         [0, 0, 0, 1]]\n",
    "\n",
    "    observation_matrix = [[1, 0, 0, 0],\n",
    "                          [0, 0, 1, 0]]\n",
    "\n",
    "    kf1 = KalmanFilter(transition_matrices = transition_matrix,\n",
    "                  observation_matrices = observation_matrix,\n",
    "                  initial_state_mean = initial_state_mean)\n",
    "\n",
    "    kf2 = KalmanFilter(transition_matrices = transition_matrix,\n",
    "                  observation_matrices = observation_matrix,\n",
    "                  initial_state_mean = initial_state_mean,\n",
    "                  observation_covariance = 10*kf1.observation_covariance,\n",
    "                  em_vars=['transition_covariance', 'initial_state_covariance'])\n",
    "\n",
    "    kf2 = kf2.em(measurements, n_iter=5)\n",
    "    (smoothed_state_means, smoothed_state_covariances)  = kf2.smooth(measurements)\n",
    "\n",
    "    gmap = gmplot.GoogleMapPlotter(streams[0][0,0], streams[0][0,1], 12)\n",
    "\n",
    "    color1 = randomcolor()\n",
    "    # color2 = randomcolor()\n",
    "    # gmap.plot(measurements[:,0], measurements[:,1], 'white', edge_width=1)\n",
    "    gmap.plot(smoothed_state_means[:,0], smoothed_state_means[:,2], color1, edge_width=1)\n"
   ],
   "metadata": {
    "collapsed": false,
    "pycharm": {
     "name": "#%%\n"
    }
   }
  },
  {
   "cell_type": "markdown",
   "source": [
    "## --------------以上为kalman 滤波（轨迹平滑）代码-------------------\n"
   ],
   "metadata": {
    "collapsed": false,
    "pycharm": {
     "name": "#%% md\n"
    }
   }
  },
  {
   "cell_type": "code",
   "execution_count": null,
   "outputs": [],
   "source": [
    "# 组轨迹求均值\n",
    "from pykalman import KalmanFilter\n",
    "import numpy as np\n",
    "import matplotlib.pyplot as plt\n",
    "import time\n",
    "import tqdm\n",
    "from gmplot import gmplot\n",
    "import random\n",
    "iter = 20\n",
    "def randomcolor():\n",
    "    colorArr = ['1','2','3','4','5','6','7','8','9','A','B','C','D','E','F']\n",
    "    color = \"\"\n",
    "    for k in range(6):\n",
    "        color += colorArr[random.randint(0,14)]\n",
    "    return \"#\"+color\n",
    "\n",
    "def tolerant_mean(arrs):\n",
    "    lens = [j.shape[0] for j in arrs]\n",
    "    arr = np.ma.empty((np.max(lens),len(arrs)))\n",
    "    arr.mask = True\n",
    "    for idx, l in enumerate(arrs):\n",
    "        arr[:len(l),idx] = l\n",
    "    return arr.mean(axis = -1)\n",
    "\n",
    "def func_kalman_1(array):\n",
    "    measurements = streams[5]\n",
    "\n",
    "    initial_state_mean = [measurements[0, 0],\n",
    "                      0,\n",
    "                      measurements[0, 1],\n",
    "                      0]\n",
    "\n",
    "    transition_matrix = [[1, 1, 0, 0],\n",
    "                     [0, 1, 0, 0],\n",
    "                     [0, 0, 1, 1],\n",
    "                     [0, 0, 0, 1]]\n",
    "\n",
    "    observation_matrix = [[1, 0, 0, 0],\n",
    "                      [0, 0, 1, 0]]\n",
    "\n",
    "    kf1 = KalmanFilter(transition_matrices = transition_matrix,\n",
    "                  observation_matrices = observation_matrix,\n",
    "                  initial_state_mean = initial_state_mean)\n",
    "\n",
    "    kf1 = kf1.em(measurements, n_iter=5)\n",
    "    (smoothed_state_means, smoothed_state_covariances) = kf1.smooth(measurements)\n",
    "\n",
    "def func_kalman_2(array):\n",
    "    measurements = array\n",
    "\n",
    "    initial_state_mean = [measurements[0, 0],\n",
    "                      0,\n",
    "                      measurements[0, 1],\n",
    "                      0]\n",
    "\n",
    "    transition_matrix = [[1, 6, 0, 0],\n",
    "                         [0, 1, 0, 0],\n",
    "                         [0, 0, 1, 6],\n",
    "                         [0, 0, 0, 1]]\n",
    "\n",
    "    observation_matrix = [[1 ,0, 0, 0],\n",
    "                          [0, 0, 1, 0]]\n",
    "\n",
    "    kf1 = KalmanFilter(transition_matrices = transition_matrix,\n",
    "                  observation_matrices = observation_matrix,\n",
    "                  initial_state_mean = initial_state_mean)\n",
    "    kf1 = kf1.em(measurements, n_iter=iter)\n",
    "    (smoothed_state_means, smoothed_state_covariances) = kf1.smooth(measurements)\n",
    "    kf2 = KalmanFilter(transition_matrices = transition_matrix,\n",
    "                  observation_matrices = observation_matrix,\n",
    "                  initial_state_mean = initial_state_mean,\n",
    "                  observation_covariance = 20*kf1.observation_covariance,\n",
    "                  em_vars=['transition_covariance', 'initial_state_covariance'])\n",
    "\n",
    "    kf2 = kf2.em(measurements, n_iter=iter)\n",
    "    (smoothed_state_means, smoothed_state_covariances)  = kf2.smooth(measurements)\n",
    "    return smoothed_state_means, measurements\n",
    "\n",
    "\n",
    "gmap =gmplot.GoogleMapPlotter(streams[0][0,0], streams[0][0,1], 12)\n",
    "\n",
    "# for clustersIndex in tqdm.trange(len(clusters)):\n",
    "#     color = randomcolor()\n",
    "#     lat_list = []\n",
    "#     lng_list = []\n",
    "    # 计算平均轨迹\n",
    "for i in tqdm.tqdm(clusters[0].indices):\n",
    "        # lat_list.append(streams[i][:,0])\n",
    "        # lng_list.append(streams[i][:,1])\n",
    "    x = [streams[i][:,0],streams[i][:,1]]\n",
    "    x = np.array(x).T\n",
    "    # x = [tolerant_mean(lat_list), tolerant_mean(lng_list)]\n",
    "    # x = np.array(x).T\n",
    "    # print(x.shape)\n",
    "    # gmap.plot(x[0], x[1], color, edge_width=1)\n",
    "    smooth , measurements= func_kalman_2(x)\n",
    "    print(smooth[0,0], smooth[0,2])\n",
    "\n",
    "\n",
    "    color1 = randomcolor()\n",
    "    # color2 = randomcolor()\n",
    "    gmap.plot(measurements[:,0], measurements[:,1], 'white', edge_width=1)\n",
    "    gmap.plot(smooth[:,0], smooth[:,2], color1, edge_width=1)\n",
    "\n",
    "gmap.draw(\"user001_map.html\")\n",
    "print(\"done\")\n"
   ],
   "metadata": {
    "collapsed": false,
    "pycharm": {
     "name": "#%%\n"
    }
   }
  },
  {
   "cell_type": "markdown",
   "source": [
    "## --------- 以上为提取平均轨迹+kalman滤波 ------------\n",
    "\n"
   ],
   "metadata": {
    "collapsed": false,
    "pycharm": {
     "name": "#%% md\n"
    }
   }
  },
  {
   "cell_type": "code",
   "execution_count": null,
   "outputs": [],
   "source": [
    "# 画图\n",
    "from gmplot import gmplot\n",
    "import random\n",
    "\n",
    "def randomcolor():\n",
    "    colorArr = ['1','2','3','4','5','6','7','8','9','A','B','C','D','E','F']\n",
    "    color = \"\"\n",
    "    for i in range(6):\n",
    "        color += colorArr[random.randint(0,14)]\n",
    "    return \"#\"+color\n",
    "\n",
    "gmap = gmplot.GoogleMapPlotter(streams[0][0,0], streams[0][0,1], 12)\n",
    "\n",
    "for clustersIndex in range(len(clusters)):\n",
    "    color = randomcolor()\n",
    "    for i in clusters[clustersIndex].indices:\n",
    "        print(i)\n",
    "        gmap.plot(streams[i][:,0], streams[i][:,1], color, edge_width=1)\n",
    "        break\n",
    "\n",
    "gmap.draw(\"user001_map.html\")"
   ],
   "metadata": {
    "collapsed": false,
    "pycharm": {
     "name": "#%%\n"
    }
   }
  },
  {
   "cell_type": "code",
   "execution_count": null,
   "outputs": [],
   "source": [
    "import numpy as np\n",
    "import matplotlib.pyplot as plt\n",
    "import matplotlib.patches as mpatches\n",
    "import geopandas as gpd\n",
    "from matplotlib import rcParams\n",
    "rcParams['figure.facecolor']=(1,1,1,1)\n",
    "np.random.seed(10) # 固定随机数种子\n",
    "import shapely\n",
    "# 创建线\n",
    "line = shapely.geometry.LineString(np.array([streams[0][:,0], streams[0][:,1]]).T)\n",
    "\n",
    "# 绘制简化前\n",
    "ax = gpd.GeoSeries([line]).plot(color='red')\n",
    "\n",
    "# 绘制简化后\n",
    "ax = gpd.GeoSeries([line]).simplify(tolerance=0.0017).plot(color='blue',\n",
    "                                                        ax=ax,\n",
    "                                                        linestyle='--')\n",
    "\n",
    "# 制作图例映射对象列表\n",
    "LegendElement = [plt.Line2D([], [], color='red', label='Before'),\n",
    "                 plt.Line2D([], [], color='blue', linestyle='--', label='After')]\n",
    "\n",
    "# 将制作好的图例映射对象列表导入legend()中，并配置相关参数\n",
    "ax.legend(handles = LegendElement,\n",
    "          loc='lower left',\n",
    "          fontsize=10)\n",
    "\n",
    "\n",
    "ax.axis('off')"
   ],
   "metadata": {
    "collapsed": false,
    "pycharm": {
     "name": "#%%\n"
    }
   }
  },
  {
   "cell_type": "code",
   "execution_count": null,
   "outputs": [],
   "source": [
    "# !!!!!!! 聚类中心代码\n",
    "from gmplot import gmplot\n",
    "import random\n",
    "\n",
    "def randomcolor():\n",
    "    colorArr = ['1','2','3','4','5','6','7','8','9','A','B','C','D','E','F']\n",
    "    color = \"\"\n",
    "    for i in range(6):\n",
    "        color += colorArr[random.randint(0,14)]\n",
    "    return \"#\"+color\n",
    "\n",
    "gmap = gmplot.GoogleMapPlotter(streams[0][0,0], streams[0][0,1], 12)\n",
    "\n",
    "for clustersIndex in range(len(clusters)):\n",
    "    color = randomcolor()\n",
    "    gmap.plot(clusters.centroids[clustersIndex][:,0], clusters.centroids[clustersIndex][:,1], color, edge_width=1)\n",
    "    # for i in clusters[clustersIndex].indices:\n",
    "    #     gmap.plot(streams[i][:,0], streams[i][:,1], color, edge_width=1)\n",
    "gmap.draw(\"user001_map.html\")\n",
    "print('done')"
   ],
   "metadata": {
    "collapsed": false,
    "pycharm": {
     "name": "#%%\n"
    }
   }
  },
  {
   "cell_type": "markdown",
   "source": [
    "## ----------------以上为聚类中心代码-----------------"
   ],
   "metadata": {
    "collapsed": false,
    "pycharm": {
     "name": "#%% md\n"
    }
   }
  },
  {
   "cell_type": "code",
   "execution_count": null,
   "outputs": [],
   "source": [
    "from rdp import rdp\n",
    "index = 1\n",
    "mask = rdp(streams[index], epsilon=0.0001 ,algo=\"iter\")\n",
    "gmap = gmplot.GoogleMapPlotter(streams[index][0,0], streams[index][0,1], 12)\n",
    "gmap.plot(streams[index][:,0], streams[index][:,1], 'yellow', edge_width=1.5)\n",
    "gmap.plot(mask[:,0], mask[:,1], 'cornflowerblue', edge_width=1)\n",
    "print(streams[index].shape)\n",
    "print(mask.shape)\n",
    "gmap.draw(\"user001_map.html\")\n",
    "print('done')\n",
    "\n",
    "\n"
   ],
   "metadata": {
    "collapsed": false,
    "pycharm": {
     "name": "#%%  ###缩减点规模\n"
    }
   }
  },
  {
   "cell_type": "code",
   "execution_count": null,
   "outputs": [],
   "source": [
    "from scipy import spatial\n",
    "import matplotlib.pyplot as plt\n",
    "from matplotlib import rcParams\n",
    "import tqdm\n",
    "print(\"#0 clusters:\", clusters[0].indices)\n",
    "print(\"#1 clusters:\", clusters[3].indices)\n",
    "distance_0_0 = []\n",
    "distance_0_1 = []\n",
    "\n",
    "for i in tqdm.tqdm(clusters[0].indices):\n",
    "    var ,_, _= spatial.distance.directed_hausdorff(clusters.centroids[0], streams[i])\n",
    "    distance_0_0.append(var)\n",
    "\n",
    "for j in tqdm.tqdm(clusters[3].indices):\n",
    "    var ,_, _= spatial.distance.directed_hausdorff(clusters.centroids[0], streams[j])\n",
    "    distance_0_1.append(var)\n",
    "\n",
    "rcParams['figure.facecolor']=(1,1,1,1)\n",
    "plt.plot(distance_0_0, distance_0_0, 'bs', distance_0_1, distance_0_1, 'g^')\n"
   ],
   "metadata": {
    "collapsed": false,
    "pycharm": {
     "name": "#%%  # 与聚类中心的距离  豪斯多夫距离最大-----偏离程度\n"
    }
   }
  },
  {
   "cell_type": "code",
   "execution_count": null,
   "outputs": [],
   "source": [
    "a = np.zeros((1,),dtype=int)\n",
    "array = np.random.randint(1,10,size=59)\n",
    "\n",
    "\n",
    "for i in range(len(clusters)):\n",
    "    print(len(clusters[i]))\n",
    "\n",
    "list = clusters.get_small_clusters(1)\n",
    "print(list)\n",
    "print(type(list))\n",
    "print(len(streams))\n",
    "for i in list:\n",
    "    print(i.indices[0])\n",
    "    # a.append(i.indices[0])\n",
    "    a = np.append(a,i.indices[0])\n",
    "a = np.delete(a,0,axis=0)\n",
    "# mask = [i for i in range(len(array)) if i in a]\n",
    "a\n",
    "\n",
    "# for index in list:\n",
    "#     clusters.remove_cluster(index)\n",
    "#\n",
    "# for i in range(len(clusters)):\n",
    "#     print(len(clusters[i]))\n",
    "\n",
    "# d for d, s in zip(data, selectors) if s\n",
    "a = [ 2,  3,  8, 14, 24, 25, 26, 34, 35, 42, 54, 61, 63]\n",
    "array = np.random.randint(1,10,size=59)\n",
    "mask = [i for i in range(len(array)) if i not in a]\n",
    "mask"
   ],
   "metadata": {
    "collapsed": false,
    "pycharm": {
     "name": "#%%\n"
    }
   }
  },
  {
   "cell_type": "code",
   "execution_count": 3,
   "outputs": [
    {
     "name": "stderr",
     "output_type": "stream",
     "text": [
      "100%|██████████| 18/18 [00:00<00:00, 3007.51it/s]\n"
     ]
    },
    {
     "name": "stdout",
     "output_type": "stream",
     "text": [
      "71\n",
      "0\n",
      "30\n",
      "33\n",
      "52\n",
      "69\n",
      "1\n",
      "7\n",
      "10\n",
      "12\n",
      "13\n",
      "19\n",
      "22\n",
      "29\n",
      "50\n",
      "55\n",
      "56\n",
      "57\n",
      "66\n",
      "4\n",
      "5\n",
      "11\n",
      "15\n",
      "16\n",
      "21\n",
      "31\n",
      "47\n",
      "49\n",
      "53\n",
      "58\n",
      "67\n",
      "68\n",
      "6\n",
      "9\n",
      "17\n",
      "18\n",
      "20\n",
      "23\n",
      "27\n",
      "32\n",
      "36\n",
      "38\n",
      "40\n",
      "41\n",
      "43\n",
      "44\n",
      "45\n",
      "46\n",
      "48\n",
      "51\n",
      "59\n",
      "60\n",
      "62\n",
      "64\n",
      "65\n",
      "70\n",
      "28\n",
      "37\n",
      "39\n",
      "58\n"
     ]
    }
   ],
   "source": [
    "from tqdm import tqdm\n",
    "Keep_Streams = []\n",
    "mask = clusters > 2\n",
    "for index in tqdm(range(len(clusters))):\n",
    "    if mask[index]:\n",
    "        for i in clusters[index].indices:\n",
    "            Keep_Streams.append(streams[i])\n"
   ],
   "metadata": {
    "collapsed": false,
    "pycharm": {
     "name": "#%%\n"
    }
   }
  },
  {
   "cell_type": "code",
   "execution_count": 4,
   "outputs": [
    {
     "name": "stderr",
     "output_type": "stream",
     "text": [
      "100%|██████████| 18/18 [00:00<00:00, 18065.92it/s]\n",
      "E:\\Anaconda\\envs\\pytorch\\lib\\site-packages\\numpy\\core\\fromnumeric.py:3256: RuntimeWarning: Mean of empty slice.\n",
      "  return _methods._mean(a, axis=axis, dtype=dtype,\n",
      "E:\\Anaconda\\envs\\pytorch\\lib\\site-packages\\numpy\\core\\_methods.py:161: RuntimeWarning: invalid value encountered in double_scalars\n",
      "  ret = ret.dtype.type(ret / rcount)\n"
     ]
    },
    {
     "name": "stdout",
     "output_type": "stream",
     "text": [
      "First Nb. clusters: 18\n",
      "Second Nb. clusters: 5\n"
     ]
    }
   ],
   "source": [
    "# 双 聚类 代码\n",
    "import geopy.distance\n",
    "from dipy.segment.metric import Metric\n",
    "from dipy.segment.metric import ResampleFeature\n",
    "import numpy as np\n",
    "from dipy.segment.clustering import QuickBundles\n",
    "from tqdm import tqdm\n",
    "\n",
    "Min_Trajectory_Number = 2\n",
    "\n",
    "# 第一次聚类（低threshold 聚多类, 除去离群轨迹)\n",
    "THRESHOLD_1 = 1\n",
    "\n",
    "class GPSDistance(Metric):\n",
    "    def __init__(self):\n",
    "        super(GPSDistance, self).__init__(feature=ResampleFeature(nb_points=256))\n",
    "\n",
    "    def are_compatible(self, shape1, shape2):\n",
    "        return len(shape1) == len(shape2)\n",
    "\n",
    "    def dist(self, v1, v2):\n",
    "        x = [geopy.distance.distance([p[0][0], p[0][1]], [p[1][0], p[1][1]]).kilometers  for p in list(zip(v1, v2)) if p[0][2] - p[1][2] < 10]\n",
    "        currD = np.mean(x)\n",
    "        return currD\n",
    "\n",
    "metric = GPSDistance()\n",
    "qb = QuickBundles(threshold=THRESHOLD_1, metric=metric)\n",
    "\n",
    "clusters = qb.cluster(streams)\n",
    "print(\"First Nb. clusters:\", len(clusters))\n",
    "\n",
    "# 去除离群轨迹\n",
    "Keep_Streams = []\n",
    "mask = clusters > Min_Trajectory_Number\n",
    "for index in tqdm(range(len(clusters))):\n",
    "    if mask[index]:\n",
    "        for i in clusters[index].indices:\n",
    "            Keep_Streams.append(streams[i])\n",
    "\n",
    "THRESHOLD_2 = 3.5\n",
    "qb = QuickBundles(threshold=THRESHOLD_2, metric=metric)\n",
    "\n",
    "clusters = qb.cluster(Keep_Streams)\n",
    "print(\"Second Nb. clusters:\", len(clusters))"
   ],
   "metadata": {
    "collapsed": false,
    "pycharm": {
     "name": "#%%\n"
    }
   }
  },
  {
   "cell_type": "code",
   "execution_count": 5,
   "outputs": [
    {
     "name": "stderr",
     "output_type": "stream",
     "text": [
      "No handles with labels found to put in legend.\n"
     ]
    },
    {
     "data": {
      "text/plain": "<matplotlib.legend.Legend at 0x180aa9c71c0>"
     },
     "execution_count": 5,
     "metadata": {},
     "output_type": "execute_result"
    },
    {
     "data": {
      "text/plain": "<Figure size 432x288 with 1 Axes>",
      "image/png": "[encoded data removed]"
     },
     "metadata": {},
     "output_type": "display_data"
    }
   ],
   "source": [
    "from matplotlib import rcParams\n",
    "rcParams['figure.facecolor']=(1,1,1,1)\n",
    "for i in range(len(clusters)):\n",
    "     for j in clusters[i].indices:\n",
    "        plt.plot(streams[j][:,0], streams[j][:,1]) # Plot some data on the (implicit) axes.\n",
    "\n",
    "plt.xlabel('latitude')\n",
    "plt.ylabel('longitude')\n",
    "plt.title(\"Simple Plot\")\n",
    "plt.legend()\n"
   ],
   "metadata": {
    "collapsed": false,
    "pycharm": {
     "name": "#%%\n"
    }
   }
  },
  {
   "cell_type": "code",
   "execution_count": null,
   "outputs": [],
   "source": [],
   "metadata": {
    "collapsed": false,
    "pycharm": {
     "name": "#%%\n"
    }
   }
  },
  {
   "cell_type": "code",
   "execution_count": null,
   "outputs": [],
   "source": [
    "import time\n",
    "userdata = 'data\\\\Geolife Trajectories 1.3\\\\Data\\\\' + '001' + '\\\\Trajectory\\\\'\n",
    "filelist = os.listdir(userdata)\n",
    "\n",
    "for f in tqdm(filelist):\n",
    "    df_list = [pd.read_csv(userdata + f,header=6,names=names,index_col=False, parse_dates=[['date', 'time']])]\n",
    "    df = pd.concat(df_list, ignore_index=True)\n",
    "    df.drop(['zero','alt','days'], axis=1, inplace=True)\n",
    "    df.set_index('date_time')\n",
    "    df_min = df\n",
    "    df_min['date_time'] = df_min['date_time'].apply(lambda x:time.mktime(x.timetuple())) # 所以最重要的是  日期.timetuple() 这个用法 通过它将日期转换成时间元组\n",
    "    # print(df_min.head(10))\n",
    "    print(df_min['date_time'].apply(lambda x:time.strftime('%Y/%m/%d %H:%M:%S',time.localtime(x))))\n",
    "\n"
   ],
   "metadata": {
    "collapsed": false,
    "pycharm": {
     "name": "#%%\n"
    }
   }
  },
  {
   "cell_type": "code",
   "execution_count": null,
   "outputs": [],
   "source": [
    "###缩减点规模\n",
    "\n",
    "from rdp import rdp\n",
    "index = 1\n",
    "mask = rdp(streams_work[index], epsilon=0.0001 ,algo=\"iter\")\n",
    "gmap = gmplot.GoogleMapPlotter(streams_work[index][0,0], streams_work[index][0,1], 12)\n",
    "gmap.plot(streams_work[index][:,0], streams_work[index][:,1], 'yellow', edge_width=1.5)\n",
    "gmap.plot(mask[:,0], mask[:,1], 'cornflowerblue', edge_width=1)\n",
    "print(streams_work[index].shape)\n",
    "print(mask.shape)\n",
    "gmap.draw(\"user001_map.html\")\n",
    "print('done')"
   ],
   "metadata": {
    "collapsed": false,
    "pycharm": {
     "name": "#%%\n"
    }
   }
  }
 ],
 "metadata": {
  "kernelspec": {
   "name": "pycharm-df77fae2",
   "language": "python",
   "display_name": "PyCharm (object-CXR)"
  },
  "language_info": {
   "codemirror_mode": {
    "name": "ipython",
    "version": 2
   },
   "file_extension": ".py",
   "mimetype": "text/x-python",
   "name": "python",
   "nbconvert_exporter": "python",
   "pygments_lexer": "ipython2",
   "version": "2.7.6"
  }
 },
 "nbformat": 4,
 "nbformat_minor": 0
}